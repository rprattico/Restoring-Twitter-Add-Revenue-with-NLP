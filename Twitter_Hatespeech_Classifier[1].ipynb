{
 "cells": [
  {
   "cell_type": "markdown",
   "id": "16a56fd3",
   "metadata": {},
   "source": [
    "# Twitter Hatespeech Classifier\n",
    "### Using dataset \"hate.csv\" provided\n",
    "##### MGPO 695 group project"
   ]
  },
  {
   "cell_type": "code",
   "execution_count": 41,
   "id": "f26004e0",
   "metadata": {},
   "outputs": [],
   "source": [
    "#Import Packages\n",
    "\n",
    "import pandas as pd\n",
    "\n",
    "from sklearn.model_selection import train_test_split\n",
    "from sklearn.feature_extraction.text import TfidfVectorizer\n",
    "from sklearn.svm import LinearSVC\n",
    "from sklearn.metrics import accuracy_score, classification_report, confusion_matrix, plot_confusion_matrix\n",
    "import matplotlib.pyplot as plt"
   ]
  },
  {
   "cell_type": "markdown",
   "id": "edf15e6a",
   "metadata": {},
   "source": [
    "## Data Exploration\n",
    "Our dataset comprises of two columns, \"tweet\" which is a string of text that represents a real tweet that was posted on Twitter.com. The \"class\" column is a binary 0 or 1, 0:the tweet does not contain hate speech, 1: the tweet does contain hate speech."
   ]
  },
  {
   "cell_type": "code",
   "execution_count": 31,
   "id": "906c8e36",
   "metadata": {},
   "outputs": [
    {
     "data": {
      "text/html": [
       "<div>\n",
       "<style scoped>\n",
       "    .dataframe tbody tr th:only-of-type {\n",
       "        vertical-align: middle;\n",
       "    }\n",
       "\n",
       "    .dataframe tbody tr th {\n",
       "        vertical-align: top;\n",
       "    }\n",
       "\n",
       "    .dataframe thead th {\n",
       "        text-align: right;\n",
       "    }\n",
       "</style>\n",
       "<table border=\"1\" class=\"dataframe\">\n",
       "  <thead>\n",
       "    <tr style=\"text-align: right;\">\n",
       "      <th></th>\n",
       "      <th>class</th>\n",
       "      <th>tweet</th>\n",
       "    </tr>\n",
       "  </thead>\n",
       "  <tbody>\n",
       "    <tr>\n",
       "      <th>27025</th>\n",
       "      <td>0</td>\n",
       "      <td>@user when a father is dysfunctional and is s...</td>\n",
       "    </tr>\n",
       "    <tr>\n",
       "      <th>27026</th>\n",
       "      <td>0</td>\n",
       "      <td>@user @user thanks for #lyft credit i can't us...</td>\n",
       "    </tr>\n",
       "    <tr>\n",
       "      <th>27027</th>\n",
       "      <td>0</td>\n",
       "      <td>bihday your majesty</td>\n",
       "    </tr>\n",
       "    <tr>\n",
       "      <th>27028</th>\n",
       "      <td>0</td>\n",
       "      <td>#model   i love u take with u all the time in ...</td>\n",
       "    </tr>\n",
       "    <tr>\n",
       "      <th>27029</th>\n",
       "      <td>0</td>\n",
       "      <td>factsguide: society now    #motivation</td>\n",
       "    </tr>\n",
       "  </tbody>\n",
       "</table>\n",
       "</div>"
      ],
      "text/plain": [
       "       class                                              tweet\n",
       "27025      0   @user when a father is dysfunctional and is s...\n",
       "27026      0  @user @user thanks for #lyft credit i can't us...\n",
       "27027      0                                bihday your majesty\n",
       "27028      0  #model   i love u take with u all the time in ...\n",
       "27029      0             factsguide: society now    #motivation"
      ]
     },
     "execution_count": 31,
     "metadata": {},
     "output_type": "execute_result"
    }
   ],
   "source": [
    "df = pd.read_csv(\"hate.csv\")\n",
    "df = df.iloc[:, 5:]\n",
    "df.loc[df['class'] == 2, 'class'] = 1\n",
    "\n",
    "\n",
    "df[df['class']==0].head()"
   ]
  },
  {
   "cell_type": "code",
   "execution_count": 34,
   "id": "caf3fd9f",
   "metadata": {},
   "outputs": [
    {
     "data": {
      "text/html": [
       "<div>\n",
       "<style scoped>\n",
       "    .dataframe tbody tr th:only-of-type {\n",
       "        vertical-align: middle;\n",
       "    }\n",
       "\n",
       "    .dataframe tbody tr th {\n",
       "        vertical-align: top;\n",
       "    }\n",
       "\n",
       "    .dataframe thead th {\n",
       "        text-align: right;\n",
       "    }\n",
       "</style>\n",
       "<table border=\"1\" class=\"dataframe\">\n",
       "  <thead>\n",
       "    <tr style=\"text-align: right;\">\n",
       "      <th></th>\n",
       "      <th>class</th>\n",
       "      <th>tweet</th>\n",
       "    </tr>\n",
       "  </thead>\n",
       "  <tbody>\n",
       "    <tr>\n",
       "      <th>0</th>\n",
       "      <td>1</td>\n",
       "      <td>!!! RT @mayasolovely: As a woman you shouldn't...</td>\n",
       "    </tr>\n",
       "    <tr>\n",
       "      <th>1</th>\n",
       "      <td>1</td>\n",
       "      <td>!!!!! RT @mleew17: boy dats cold...tyga dwn ba...</td>\n",
       "    </tr>\n",
       "    <tr>\n",
       "      <th>2</th>\n",
       "      <td>1</td>\n",
       "      <td>!!!!!!! RT @UrKindOfBrand Dawg!!!! RT @80sbaby...</td>\n",
       "    </tr>\n",
       "    <tr>\n",
       "      <th>3</th>\n",
       "      <td>1</td>\n",
       "      <td>!!!!!!!!! RT @C_G_Anderson: @viva_based she lo...</td>\n",
       "    </tr>\n",
       "    <tr>\n",
       "      <th>4</th>\n",
       "      <td>1</td>\n",
       "      <td>!!!!!!!!!!!!! RT @ShenikaRoberts: The shit you...</td>\n",
       "    </tr>\n",
       "  </tbody>\n",
       "</table>\n",
       "</div>"
      ],
      "text/plain": [
       "   class                                              tweet\n",
       "0      1  !!! RT @mayasolovely: As a woman you shouldn't...\n",
       "1      1  !!!!! RT @mleew17: boy dats cold...tyga dwn ba...\n",
       "2      1  !!!!!!! RT @UrKindOfBrand Dawg!!!! RT @80sbaby...\n",
       "3      1  !!!!!!!!! RT @C_G_Anderson: @viva_based she lo...\n",
       "4      1  !!!!!!!!!!!!! RT @ShenikaRoberts: The shit you..."
      ]
     },
     "execution_count": 34,
     "metadata": {},
     "output_type": "execute_result"
    }
   ],
   "source": [
    "df[df['class']==1].head()"
   ]
  },
  {
   "cell_type": "code",
   "execution_count": 35,
   "id": "f6162ca4",
   "metadata": {},
   "outputs": [
    {
     "data": {
      "text/html": [
       "<div>\n",
       "<style scoped>\n",
       "    .dataframe tbody tr th:only-of-type {\n",
       "        vertical-align: middle;\n",
       "    }\n",
       "\n",
       "    .dataframe tbody tr th {\n",
       "        vertical-align: top;\n",
       "    }\n",
       "\n",
       "    .dataframe thead th {\n",
       "        text-align: right;\n",
       "    }\n",
       "</style>\n",
       "<table border=\"1\" class=\"dataframe\">\n",
       "  <thead>\n",
       "    <tr style=\"text-align: right;\">\n",
       "      <th></th>\n",
       "      <th>class</th>\n",
       "    </tr>\n",
       "  </thead>\n",
       "  <tbody>\n",
       "    <tr>\n",
       "      <th>count</th>\n",
       "      <td>56745.000000</td>\n",
       "    </tr>\n",
       "    <tr>\n",
       "      <th>mean</th>\n",
       "      <td>0.476253</td>\n",
       "    </tr>\n",
       "    <tr>\n",
       "      <th>std</th>\n",
       "      <td>0.499440</td>\n",
       "    </tr>\n",
       "    <tr>\n",
       "      <th>min</th>\n",
       "      <td>0.000000</td>\n",
       "    </tr>\n",
       "    <tr>\n",
       "      <th>25%</th>\n",
       "      <td>0.000000</td>\n",
       "    </tr>\n",
       "    <tr>\n",
       "      <th>50%</th>\n",
       "      <td>0.000000</td>\n",
       "    </tr>\n",
       "    <tr>\n",
       "      <th>75%</th>\n",
       "      <td>1.000000</td>\n",
       "    </tr>\n",
       "    <tr>\n",
       "      <th>max</th>\n",
       "      <td>1.000000</td>\n",
       "    </tr>\n",
       "  </tbody>\n",
       "</table>\n",
       "</div>"
      ],
      "text/plain": [
       "              class\n",
       "count  56745.000000\n",
       "mean       0.476253\n",
       "std        0.499440\n",
       "min        0.000000\n",
       "25%        0.000000\n",
       "50%        0.000000\n",
       "75%        1.000000\n",
       "max        1.000000"
      ]
     },
     "execution_count": 35,
     "metadata": {},
     "output_type": "execute_result"
    }
   ],
   "source": [
    "df.describe()"
   ]
  },
  {
   "cell_type": "markdown",
   "id": "147f4c4c",
   "metadata": {},
   "source": [
    "##### Analsyis\n",
    "Above we observe that out of roughly 56 thousand tweets 47% of our data are hateful tweets."
   ]
  },
  {
   "cell_type": "markdown",
   "id": "f8d2f0e7",
   "metadata": {},
   "source": [
    "# Use Case 1:\n",
    "##### Twitter is losing money and advertisers due to an increase in hate speech"
   ]
  },
  {
   "cell_type": "code",
   "execution_count": 40,
   "id": "f162e555",
   "metadata": {},
   "outputs": [
    {
     "name": "stdout",
     "output_type": "stream",
     "text": [
      "Accuracy: 0.9693365054189796\n",
      "Classification Report:\n",
      "               precision    recall  f1-score   support\n",
      "\n",
      "           0       0.96      0.98      0.97      5963\n",
      "           1       0.98      0.96      0.97      5386\n",
      "\n",
      "    accuracy                           0.97     11349\n",
      "   macro avg       0.97      0.97      0.97     11349\n",
      "weighted avg       0.97      0.97      0.97     11349\n",
      "\n"
     ]
    }
   ],
   "source": [
    "X_train, X_test, y_train, y_test = train_test_split(df['tweet'], df['class'], test_size=0.2, random_state=42)\n",
    "\n",
    "#TF-IDF vectorizer to transform the text data into numerical features\n",
    "vectorizer = TfidfVectorizer()\n",
    "\n",
    "X_train = vectorizer.fit_transform(X_train)\n",
    "X_test = vectorizer.transform(X_test)\n",
    "\n",
    "#Linear SVM classifier\n",
    "clf = LinearSVC()\n",
    "clf.fit(X_train, y_train)\n",
    "\n",
    "\n",
    "y_pred = clf.predict(X_test)\n",
    "\n",
    "\n",
    "print(\"Accuracy:\", accuracy_score(y_test, y_pred))\n",
    "print(\"Classification Report:\\n\", classification_report(y_test, y_pred))"
   ]
  },
  {
   "cell_type": "code",
   "execution_count": 42,
   "id": "c20fbaa3",
   "metadata": {},
   "outputs": [
    {
     "name": "stderr",
     "output_type": "stream",
     "text": [
      "/Users/bennettfahey/opt/anaconda3/lib/python3.9/site-packages/sklearn/utils/deprecation.py:87: FutureWarning: Function plot_confusion_matrix is deprecated; Function `plot_confusion_matrix` is deprecated in 1.0 and will be removed in 1.2. Use one of the class methods: ConfusionMatrixDisplay.from_predictions or ConfusionMatrixDisplay.from_estimator.\n",
      "  warnings.warn(msg, category=FutureWarning)\n"
     ]
    },
    {
     "data": {
      "image/png": "[encoded data removed]",
      "text/plain": [
       "<Figure size 640x480 with 2 Axes>"
      ]
     },
     "metadata": {},
     "output_type": "display_data"
    }
   ],
   "source": [
    "cm = confusion_matrix(y_test, y_pred)\n",
    "plot_confusion_matrix(clf, X_test, y_test, cmap=plt.cm.Blues)\n",
    "plt.show()"
   ]
  },
  {
   "cell_type": "markdown",
   "id": "c41108d2",
   "metadata": {},
   "source": [
    "#### Analysis\n",
    "Our model performed well with 96.9% accuracy, above it can be seen(bottom left) that less than 4% of tweets that contained hate speech were classified as normal, this is considered a false negative and more harmful than a false positive. Still the model performed exceptionally well."
   ]
  },
  {
   "cell_type": "markdown",
   "id": "fe7da1a0",
   "metadata": {},
   "source": [
    "# Use Case 2:\n",
    "##### Find sentiment for Twitter users, increasing user satisfaction and retention"
   ]
  },
  {
   "cell_type": "code",
   "execution_count": 46,
   "id": "2595aadc",
   "metadata": {},
   "outputs": [
    {
     "data": {
      "text/html": [
       "<div>\n",
       "<style scoped>\n",
       "    .dataframe tbody tr th:only-of-type {\n",
       "        vertical-align: middle;\n",
       "    }\n",
       "\n",
       "    .dataframe tbody tr th {\n",
       "        vertical-align: top;\n",
       "    }\n",
       "\n",
       "    .dataframe thead th {\n",
       "        text-align: right;\n",
       "    }\n",
       "</style>\n",
       "<table border=\"1\" class=\"dataframe\">\n",
       "  <thead>\n",
       "    <tr style=\"text-align: right;\">\n",
       "      <th></th>\n",
       "      <th>Sentiment</th>\n",
       "      <th>Cleaned Tweets</th>\n",
       "    </tr>\n",
       "  </thead>\n",
       "  <tbody>\n",
       "    <tr>\n",
       "      <th>count</th>\n",
       "      <td>37491</td>\n",
       "      <td>37491</td>\n",
       "    </tr>\n",
       "    <tr>\n",
       "      <th>unique</th>\n",
       "      <td>4</td>\n",
       "      <td>18876</td>\n",
       "    </tr>\n",
       "    <tr>\n",
       "      <th>top</th>\n",
       "      <td>anxious</td>\n",
       "      <td>human need job cant exist amp make art chill cat</td>\n",
       "    </tr>\n",
       "    <tr>\n",
       "      <th>freq</th>\n",
       "      <td>10509</td>\n",
       "      <td>446</td>\n",
       "    </tr>\n",
       "  </tbody>\n",
       "</table>\n",
       "</div>"
      ],
      "text/plain": [
       "       Sentiment                                     Cleaned Tweets\n",
       "count      37491                                              37491\n",
       "unique         4                                              18876\n",
       "top      anxious  human need job cant exist amp make art chill cat \n",
       "freq       10509                                                446"
      ]
     },
     "execution_count": 46,
     "metadata": {},
     "output_type": "execute_result"
    }
   ],
   "source": [
    "df2 = pd.read_csv(\"Tweet Sentiments.csv\")\n",
    "df2.describe()"
   ]
  },
  {
   "cell_type": "code",
   "execution_count": 48,
   "id": "aaf88ee1",
   "metadata": {},
   "outputs": [
    {
     "data": {
      "image/png": "[encoded data removed]",
      "text/plain": [
       "<Figure size 800x600 with 1 Axes>"
      ]
     },
     "metadata": {},
     "output_type": "display_data"
    }
   ],
   "source": [
    "sentiment_counts = df2['Sentiment'].value_counts()\n",
    "\n",
    "plt.figure(figsize=(8,6))\n",
    "plt.bar(sentiment_counts.index, sentiment_counts.values, color='blue')\n",
    "\n",
    "plt.xlabel('Sentiment')\n",
    "plt.ylabel('Count')\n",
    "plt.title('Distribution of Sentiment')\n",
    "\n",
    "for i, v in enumerate(sentiment_counts.values):\n",
    "    plt.text(i, v+10, str(v), ha='center')\n",
    "\n",
    "plt.show()"
   ]
  },
  {
   "cell_type": "markdown",
   "id": "e4fdb3ab",
   "metadata": {},
   "source": [
    "## NLP Classifier creation"
   ]
  },
  {
   "cell_type": "code",
   "execution_count": 55,
   "id": "d24013d0",
   "metadata": {},
   "outputs": [
    {
     "name": "stdout",
     "output_type": "stream",
     "text": [
      "[[1225 1739  132   21]\n",
      " [1998  569   31   16]\n",
      " [  52   31 2820   38]\n",
      " [  24   21  125 2406]]\n",
      "              precision    recall  f1-score   support\n",
      "\n",
      "     anxious       0.37      0.39      0.38      3117\n",
      "      lonely       0.24      0.22      0.23      2614\n",
      "      normal       0.91      0.96      0.93      2941\n",
      "    stressed       0.97      0.93      0.95      2576\n",
      "\n",
      "    accuracy                           0.62     11248\n",
      "   macro avg       0.62      0.63      0.62     11248\n",
      "weighted avg       0.62      0.62      0.62     11248\n",
      "\n",
      "0.6241109530583214\n"
     ]
    }
   ],
   "source": [
    "from sklearn.model_selection import train_test_split\n",
    "from sklearn.feature_extraction.text import CountVectorizer\n",
    "from sklearn.ensemble import RandomForestClassifier\n",
    "from sklearn.metrics import classification_report, confusion_matrix, accuracy_score\n",
    "\n",
    "xtrain, xtest, ytrain, ytest = train_test_split(df2[\"Cleaned Tweets\"], df2[\"Sentiment\"], test_size=0.3, random_state=0)\n",
    "\n",
    "# Vectorizer uses bag of words technology\n",
    "vectorizer = CountVectorizer()\n",
    "xtrain_bow = vectorizer.fit_transform(xtrain)\n",
    "xtest_bow = vectorizer.transform(xtest)\n",
    "\n",
    "\n",
    "sentiment_classifier = RandomForestClassifier(n_estimators=100, random_state=0)\n",
    "sentiment_classifier.fit(xtrain_bow, ytrain)\n",
    "\n",
    "predictions = sentiment_classifier.predict(xtest_bow)\n",
    "\n",
    "print(confusion_matrix(ytest, predictions))\n",
    "print(classification_report(ytest, predictions))\n",
    "print(accuracy_score(ytest, predictions))"
   ]
  },
  {
   "cell_type": "markdown",
   "id": "22ff6567",
   "metadata": {},
   "source": [
    "#### Analysis\n",
    "Our model performed well with 62.4% accuracy, we observe that the model was excellent at classifying normal and stressed tweets while it had more trouble with anxious and lonely tweets. This model will help identify a high quality measure of not only customer satisfaction, but customer sentiment as a whole."
   ]
  },
  {
   "cell_type": "code",
   "execution_count": null,
   "id": "fd1b69d1",
   "metadata": {},
   "outputs": [],
   "source": []
  },
  {
   "cell_type": "code",
   "execution_count": null,
   "id": "d578d1af",
   "metadata": {},
   "outputs": [],
   "source": []
  }
 ],
 "metadata": {
  "kernelspec": {
   "display_name": "Python 3 (ipykernel)",
   "language": "python",
   "name": "python3"
  },
  "language_info": {
   "codemirror_mode": {
    "name": "ipython",
    "version": 3
   },
   "file_extension": ".py",
   "mimetype": "text/x-python",
   "name": "python",
   "nbconvert_exporter": "python",
   "pygments_lexer": "ipython3",
   "version": "3.9.15"
  }
 },
 "nbformat": 4,
 "nbformat_minor": 5
}
